{
 "cells": [
  {
   "cell_type": "markdown",
   "id": "4cb92f7f",
   "metadata": {},
   "source": [
    "Dataset Of == Teen Phone Addiction and its Impact =="
   ]
  },
  {
   "cell_type": "code",
   "execution_count": 1,
   "id": "23b5aafa",
   "metadata": {},
   "outputs": [],
   "source": [
    "import pandas as pd\n",
    "import numpy as np\n",
    "import matplotlib.pyplot as plt\n",
    "import seaborn as sns"
   ]
  },
  {
   "cell_type": "code",
   "execution_count": 2,
   "id": "ceae998f",
   "metadata": {},
   "outputs": [
    {
     "data": {
      "application/vnd.microsoft.datawrangler.viewer.v0+json": {
       "columns": [
        {
         "name": "index",
         "rawType": "int64",
         "type": "integer"
        },
        {
         "name": "ID",
         "rawType": "int64",
         "type": "integer"
        },
        {
         "name": "Name",
         "rawType": "object",
         "type": "string"
        },
        {
         "name": "Age",
         "rawType": "int64",
         "type": "integer"
        },
        {
         "name": "Gender",
         "rawType": "object",
         "type": "string"
        },
        {
         "name": "Location",
         "rawType": "object",
         "type": "string"
        },
        {
         "name": "School_Grade",
         "rawType": "object",
         "type": "string"
        },
        {
         "name": "Daily_Usage_Hours",
         "rawType": "float64",
         "type": "float"
        },
        {
         "name": "Sleep_Hours",
         "rawType": "float64",
         "type": "float"
        },
        {
         "name": "Academic_Performance",
         "rawType": "int64",
         "type": "integer"
        },
        {
         "name": "Social_Interactions",
         "rawType": "int64",
         "type": "integer"
        },
        {
         "name": "Exercise_Hours",
         "rawType": "float64",
         "type": "float"
        },
        {
         "name": "Anxiety_Level",
         "rawType": "int64",
         "type": "integer"
        },
        {
         "name": "Depression_Level",
         "rawType": "int64",
         "type": "integer"
        },
        {
         "name": "Self_Esteem",
         "rawType": "int64",
         "type": "integer"
        },
        {
         "name": "Parental_Control",
         "rawType": "int64",
         "type": "integer"
        },
        {
         "name": "Screen_Time_Before_Bed",
         "rawType": "float64",
         "type": "float"
        },
        {
         "name": "Phone_Checks_Per_Day",
         "rawType": "int64",
         "type": "integer"
        },
        {
         "name": "Apps_Used_Daily",
         "rawType": "int64",
         "type": "integer"
        },
        {
         "name": "Time_on_Social_Media",
         "rawType": "float64",
         "type": "float"
        },
        {
         "name": "Time_on_Gaming",
         "rawType": "float64",
         "type": "float"
        },
        {
         "name": "Time_on_Education",
         "rawType": "float64",
         "type": "float"
        },
        {
         "name": "Phone_Usage_Purpose",
         "rawType": "object",
         "type": "string"
        },
        {
         "name": "Family_Communication",
         "rawType": "int64",
         "type": "integer"
        },
        {
         "name": "Weekend_Usage_Hours",
         "rawType": "float64",
         "type": "float"
        },
        {
         "name": "Addiction_Level",
         "rawType": "float64",
         "type": "float"
        }
       ],
       "ref": "b760ad0a-bab0-48e9-bf20-76ef082259f2",
       "rows": [
        [
         "0",
         "1",
         "Shannon Francis",
         "13",
         "Female",
         "Hansonfort",
         "9th",
         "4.0",
         "6.1",
         "78",
         "5",
         "0.1",
         "10",
         "3",
         "8",
         "0",
         "1.4",
         "86",
         "19",
         "3.6",
         "1.7",
         "1.2",
         "Browsing",
         "4",
         "8.7",
         "10.0"
        ],
        [
         "1",
         "2",
         "Scott Rodriguez",
         "17",
         "Female",
         "Theodorefort",
         "7th",
         "5.5",
         "6.5",
         "70",
         "5",
         "0.0",
         "3",
         "7",
         "3",
         "0",
         "0.9",
         "96",
         "9",
         "1.1",
         "4.0",
         "1.8",
         "Browsing",
         "2",
         "5.3",
         "10.0"
        ],
        [
         "2",
         "3",
         "Adrian Knox",
         "13",
         "Other",
         "Lindseystad",
         "11th",
         "5.8",
         "5.5",
         "93",
         "8",
         "0.8",
         "2",
         "3",
         "10",
         "0",
         "0.5",
         "137",
         "8",
         "0.3",
         "1.5",
         "0.4",
         "Education",
         "6",
         "5.7",
         "9.2"
        ],
        [
         "3",
         "4",
         "Brittany Hamilton",
         "18",
         "Female",
         "West Anthony",
         "12th",
         "3.1",
         "3.9",
         "78",
         "8",
         "1.6",
         "9",
         "10",
         "3",
         "0",
         "1.4",
         "128",
         "7",
         "3.1",
         "1.6",
         "0.8",
         "Social Media",
         "8",
         "3.0",
         "9.8"
        ],
        [
         "4",
         "5",
         "Steven Smith",
         "14",
         "Other",
         "Port Lindsaystad",
         "9th",
         "2.5",
         "6.7",
         "56",
         "4",
         "1.1",
         "1",
         "5",
         "1",
         "0",
         "1.0",
         "96",
         "20",
         "2.6",
         "0.9",
         "1.1",
         "Gaming",
         "10",
         "3.7",
         "8.6"
        ]
       ],
       "shape": {
        "columns": 25,
        "rows": 5
       }
      },
      "text/html": [
       "<div>\n",
       "<style scoped>\n",
       "    .dataframe tbody tr th:only-of-type {\n",
       "        vertical-align: middle;\n",
       "    }\n",
       "\n",
       "    .dataframe tbody tr th {\n",
       "        vertical-align: top;\n",
       "    }\n",
       "\n",
       "    .dataframe thead th {\n",
       "        text-align: right;\n",
       "    }\n",
       "</style>\n",
       "<table border=\"1\" class=\"dataframe\">\n",
       "  <thead>\n",
       "    <tr style=\"text-align: right;\">\n",
       "      <th></th>\n",
       "      <th>ID</th>\n",
       "      <th>Name</th>\n",
       "      <th>Age</th>\n",
       "      <th>Gender</th>\n",
       "      <th>Location</th>\n",
       "      <th>School_Grade</th>\n",
       "      <th>Daily_Usage_Hours</th>\n",
       "      <th>Sleep_Hours</th>\n",
       "      <th>Academic_Performance</th>\n",
       "      <th>Social_Interactions</th>\n",
       "      <th>...</th>\n",
       "      <th>Screen_Time_Before_Bed</th>\n",
       "      <th>Phone_Checks_Per_Day</th>\n",
       "      <th>Apps_Used_Daily</th>\n",
       "      <th>Time_on_Social_Media</th>\n",
       "      <th>Time_on_Gaming</th>\n",
       "      <th>Time_on_Education</th>\n",
       "      <th>Phone_Usage_Purpose</th>\n",
       "      <th>Family_Communication</th>\n",
       "      <th>Weekend_Usage_Hours</th>\n",
       "      <th>Addiction_Level</th>\n",
       "    </tr>\n",
       "  </thead>\n",
       "  <tbody>\n",
       "    <tr>\n",
       "      <th>0</th>\n",
       "      <td>1</td>\n",
       "      <td>Shannon Francis</td>\n",
       "      <td>13</td>\n",
       "      <td>Female</td>\n",
       "      <td>Hansonfort</td>\n",
       "      <td>9th</td>\n",
       "      <td>4.0</td>\n",
       "      <td>6.1</td>\n",
       "      <td>78</td>\n",
       "      <td>5</td>\n",
       "      <td>...</td>\n",
       "      <td>1.4</td>\n",
       "      <td>86</td>\n",
       "      <td>19</td>\n",
       "      <td>3.6</td>\n",
       "      <td>1.7</td>\n",
       "      <td>1.2</td>\n",
       "      <td>Browsing</td>\n",
       "      <td>4</td>\n",
       "      <td>8.7</td>\n",
       "      <td>10.0</td>\n",
       "    </tr>\n",
       "    <tr>\n",
       "      <th>1</th>\n",
       "      <td>2</td>\n",
       "      <td>Scott Rodriguez</td>\n",
       "      <td>17</td>\n",
       "      <td>Female</td>\n",
       "      <td>Theodorefort</td>\n",
       "      <td>7th</td>\n",
       "      <td>5.5</td>\n",
       "      <td>6.5</td>\n",
       "      <td>70</td>\n",
       "      <td>5</td>\n",
       "      <td>...</td>\n",
       "      <td>0.9</td>\n",
       "      <td>96</td>\n",
       "      <td>9</td>\n",
       "      <td>1.1</td>\n",
       "      <td>4.0</td>\n",
       "      <td>1.8</td>\n",
       "      <td>Browsing</td>\n",
       "      <td>2</td>\n",
       "      <td>5.3</td>\n",
       "      <td>10.0</td>\n",
       "    </tr>\n",
       "    <tr>\n",
       "      <th>2</th>\n",
       "      <td>3</td>\n",
       "      <td>Adrian Knox</td>\n",
       "      <td>13</td>\n",
       "      <td>Other</td>\n",
       "      <td>Lindseystad</td>\n",
       "      <td>11th</td>\n",
       "      <td>5.8</td>\n",
       "      <td>5.5</td>\n",
       "      <td>93</td>\n",
       "      <td>8</td>\n",
       "      <td>...</td>\n",
       "      <td>0.5</td>\n",
       "      <td>137</td>\n",
       "      <td>8</td>\n",
       "      <td>0.3</td>\n",
       "      <td>1.5</td>\n",
       "      <td>0.4</td>\n",
       "      <td>Education</td>\n",
       "      <td>6</td>\n",
       "      <td>5.7</td>\n",
       "      <td>9.2</td>\n",
       "    </tr>\n",
       "    <tr>\n",
       "      <th>3</th>\n",
       "      <td>4</td>\n",
       "      <td>Brittany Hamilton</td>\n",
       "      <td>18</td>\n",
       "      <td>Female</td>\n",
       "      <td>West Anthony</td>\n",
       "      <td>12th</td>\n",
       "      <td>3.1</td>\n",
       "      <td>3.9</td>\n",
       "      <td>78</td>\n",
       "      <td>8</td>\n",
       "      <td>...</td>\n",
       "      <td>1.4</td>\n",
       "      <td>128</td>\n",
       "      <td>7</td>\n",
       "      <td>3.1</td>\n",
       "      <td>1.6</td>\n",
       "      <td>0.8</td>\n",
       "      <td>Social Media</td>\n",
       "      <td>8</td>\n",
       "      <td>3.0</td>\n",
       "      <td>9.8</td>\n",
       "    </tr>\n",
       "    <tr>\n",
       "      <th>4</th>\n",
       "      <td>5</td>\n",
       "      <td>Steven Smith</td>\n",
       "      <td>14</td>\n",
       "      <td>Other</td>\n",
       "      <td>Port Lindsaystad</td>\n",
       "      <td>9th</td>\n",
       "      <td>2.5</td>\n",
       "      <td>6.7</td>\n",
       "      <td>56</td>\n",
       "      <td>4</td>\n",
       "      <td>...</td>\n",
       "      <td>1.0</td>\n",
       "      <td>96</td>\n",
       "      <td>20</td>\n",
       "      <td>2.6</td>\n",
       "      <td>0.9</td>\n",
       "      <td>1.1</td>\n",
       "      <td>Gaming</td>\n",
       "      <td>10</td>\n",
       "      <td>3.7</td>\n",
       "      <td>8.6</td>\n",
       "    </tr>\n",
       "  </tbody>\n",
       "</table>\n",
       "<p>5 rows × 25 columns</p>\n",
       "</div>"
      ],
      "text/plain": [
       "   ID               Name  Age  Gender          Location School_Grade  \\\n",
       "0   1    Shannon Francis   13  Female        Hansonfort          9th   \n",
       "1   2    Scott Rodriguez   17  Female      Theodorefort          7th   \n",
       "2   3        Adrian Knox   13   Other       Lindseystad         11th   \n",
       "3   4  Brittany Hamilton   18  Female      West Anthony         12th   \n",
       "4   5       Steven Smith   14   Other  Port Lindsaystad          9th   \n",
       "\n",
       "   Daily_Usage_Hours  Sleep_Hours  Academic_Performance  Social_Interactions  \\\n",
       "0                4.0          6.1                    78                    5   \n",
       "1                5.5          6.5                    70                    5   \n",
       "2                5.8          5.5                    93                    8   \n",
       "3                3.1          3.9                    78                    8   \n",
       "4                2.5          6.7                    56                    4   \n",
       "\n",
       "   ...  Screen_Time_Before_Bed  Phone_Checks_Per_Day  Apps_Used_Daily  \\\n",
       "0  ...                     1.4                    86               19   \n",
       "1  ...                     0.9                    96                9   \n",
       "2  ...                     0.5                   137                8   \n",
       "3  ...                     1.4                   128                7   \n",
       "4  ...                     1.0                    96               20   \n",
       "\n",
       "   Time_on_Social_Media  Time_on_Gaming  Time_on_Education  \\\n",
       "0                   3.6             1.7                1.2   \n",
       "1                   1.1             4.0                1.8   \n",
       "2                   0.3             1.5                0.4   \n",
       "3                   3.1             1.6                0.8   \n",
       "4                   2.6             0.9                1.1   \n",
       "\n",
       "   Phone_Usage_Purpose  Family_Communication  Weekend_Usage_Hours  \\\n",
       "0             Browsing                     4                  8.7   \n",
       "1             Browsing                     2                  5.3   \n",
       "2            Education                     6                  5.7   \n",
       "3         Social Media                     8                  3.0   \n",
       "4               Gaming                    10                  3.7   \n",
       "\n",
       "   Addiction_Level  \n",
       "0             10.0  \n",
       "1             10.0  \n",
       "2              9.2  \n",
       "3              9.8  \n",
       "4              8.6  \n",
       "\n",
       "[5 rows x 25 columns]"
      ]
     },
     "execution_count": 2,
     "metadata": {},
     "output_type": "execute_result"
    }
   ],
   "source": [
    "df = pd.read_csv('teen_phone_addiction_dataset.csv')\n",
    "df.head()"
   ]
  },
  {
   "cell_type": "code",
   "execution_count": 3,
   "id": "001ceab3",
   "metadata": {},
   "outputs": [
    {
     "name": "stdout",
     "output_type": "stream",
     "text": [
      "The row are\n"
     ]
    },
    {
     "data": {
      "text/plain": [
       "(3000, 25)"
      ]
     },
     "execution_count": 3,
     "metadata": {},
     "output_type": "execute_result"
    }
   ],
   "source": [
    "print(\"The row are\",)\n",
    "df.shape"
   ]
  },
  {
   "cell_type": "code",
   "execution_count": 4,
   "id": "4c695bdf",
   "metadata": {},
   "outputs": [
    {
     "name": "stdout",
     "output_type": "stream",
     "text": [
      "<class 'pandas.core.frame.DataFrame'>\n",
      "RangeIndex: 3000 entries, 0 to 2999\n",
      "Data columns (total 25 columns):\n",
      " #   Column                  Non-Null Count  Dtype  \n",
      "---  ------                  --------------  -----  \n",
      " 0   ID                      3000 non-null   int64  \n",
      " 1   Name                    3000 non-null   object \n",
      " 2   Age                     3000 non-null   int64  \n",
      " 3   Gender                  3000 non-null   object \n",
      " 4   Location                3000 non-null   object \n",
      " 5   School_Grade            3000 non-null   object \n",
      " 6   Daily_Usage_Hours       3000 non-null   float64\n",
      " 7   Sleep_Hours             3000 non-null   float64\n",
      " 8   Academic_Performance    3000 non-null   int64  \n",
      " 9   Social_Interactions     3000 non-null   int64  \n",
      " 10  Exercise_Hours          3000 non-null   float64\n",
      " 11  Anxiety_Level           3000 non-null   int64  \n",
      " 12  Depression_Level        3000 non-null   int64  \n",
      " 13  Self_Esteem             3000 non-null   int64  \n",
      " 14  Parental_Control        3000 non-null   int64  \n",
      " 15  Screen_Time_Before_Bed  3000 non-null   float64\n",
      " 16  Phone_Checks_Per_Day    3000 non-null   int64  \n",
      " 17  Apps_Used_Daily         3000 non-null   int64  \n",
      " 18  Time_on_Social_Media    3000 non-null   float64\n",
      " 19  Time_on_Gaming          3000 non-null   float64\n",
      " 20  Time_on_Education       3000 non-null   float64\n",
      " 21  Phone_Usage_Purpose     3000 non-null   object \n",
      " 22  Family_Communication    3000 non-null   int64  \n",
      " 23  Weekend_Usage_Hours     3000 non-null   float64\n",
      " 24  Addiction_Level         3000 non-null   float64\n",
      "dtypes: float64(9), int64(11), object(5)\n",
      "memory usage: 586.1+ KB\n"
     ]
    }
   ],
   "source": [
    "df.info() #  --> Datatype information"
   ]
  },
  {
   "cell_type": "code",
   "execution_count": 5,
   "id": "2136e877",
   "metadata": {},
   "outputs": [
    {
     "data": {
      "text/plain": [
       "Index(['ID', 'Name', 'Age', 'Gender', 'Location', 'School_Grade',\n",
       "       'Daily_Usage_Hours', 'Sleep_Hours', 'Academic_Performance',\n",
       "       'Social_Interactions', 'Exercise_Hours', 'Anxiety_Level',\n",
       "       'Depression_Level', 'Self_Esteem', 'Parental_Control',\n",
       "       'Screen_Time_Before_Bed', 'Phone_Checks_Per_Day', 'Apps_Used_Daily',\n",
       "       'Time_on_Social_Media', 'Time_on_Gaming', 'Time_on_Education',\n",
       "       'Phone_Usage_Purpose', 'Family_Communication', 'Weekend_Usage_Hours',\n",
       "       'Addiction_Level'],\n",
       "      dtype='object')"
      ]
     },
     "execution_count": 5,
     "metadata": {},
     "output_type": "execute_result"
    }
   ],
   "source": [
    "df.columns # --> Tells me the Columns information "
   ]
  },
  {
   "cell_type": "code",
   "execution_count": 6,
   "id": "5bd9cdf8",
   "metadata": {},
   "outputs": [
    {
     "data": {
      "application/vnd.microsoft.datawrangler.viewer.v0+json": {
       "columns": [
        {
         "name": "index",
         "rawType": "object",
         "type": "string"
        },
        {
         "name": "0",
         "rawType": "int64",
         "type": "integer"
        }
       ],
       "ref": "e61878c3-855b-4426-822d-d61c6aec1b24",
       "rows": [
        [
         "ID",
         "0"
        ],
        [
         "Name",
         "0"
        ],
        [
         "Age",
         "0"
        ],
        [
         "Gender",
         "0"
        ],
        [
         "Location",
         "0"
        ],
        [
         "School_Grade",
         "0"
        ],
        [
         "Daily_Usage_Hours",
         "0"
        ],
        [
         "Sleep_Hours",
         "0"
        ],
        [
         "Academic_Performance",
         "0"
        ],
        [
         "Social_Interactions",
         "0"
        ],
        [
         "Exercise_Hours",
         "0"
        ],
        [
         "Anxiety_Level",
         "0"
        ],
        [
         "Depression_Level",
         "0"
        ],
        [
         "Self_Esteem",
         "0"
        ],
        [
         "Parental_Control",
         "0"
        ],
        [
         "Screen_Time_Before_Bed",
         "0"
        ],
        [
         "Phone_Checks_Per_Day",
         "0"
        ],
        [
         "Apps_Used_Daily",
         "0"
        ],
        [
         "Time_on_Social_Media",
         "0"
        ],
        [
         "Time_on_Gaming",
         "0"
        ],
        [
         "Time_on_Education",
         "0"
        ],
        [
         "Phone_Usage_Purpose",
         "0"
        ],
        [
         "Family_Communication",
         "0"
        ],
        [
         "Weekend_Usage_Hours",
         "0"
        ],
        [
         "Addiction_Level",
         "0"
        ]
       ],
       "shape": {
        "columns": 1,
        "rows": 25
       }
      },
      "text/plain": [
       "ID                        0\n",
       "Name                      0\n",
       "Age                       0\n",
       "Gender                    0\n",
       "Location                  0\n",
       "School_Grade              0\n",
       "Daily_Usage_Hours         0\n",
       "Sleep_Hours               0\n",
       "Academic_Performance      0\n",
       "Social_Interactions       0\n",
       "Exercise_Hours            0\n",
       "Anxiety_Level             0\n",
       "Depression_Level          0\n",
       "Self_Esteem               0\n",
       "Parental_Control          0\n",
       "Screen_Time_Before_Bed    0\n",
       "Phone_Checks_Per_Day      0\n",
       "Apps_Used_Daily           0\n",
       "Time_on_Social_Media      0\n",
       "Time_on_Gaming            0\n",
       "Time_on_Education         0\n",
       "Phone_Usage_Purpose       0\n",
       "Family_Communication      0\n",
       "Weekend_Usage_Hours       0\n",
       "Addiction_Level           0\n",
       "dtype: int64"
      ]
     },
     "execution_count": 6,
     "metadata": {},
     "output_type": "execute_result"
    }
   ],
   "source": [
    "df.isnull().sum()  # --> Show the Null values"
   ]
  },
  {
   "cell_type": "code",
   "execution_count": 7,
   "id": "a2c76ff7",
   "metadata": {},
   "outputs": [
    {
     "data": {
      "application/vnd.microsoft.datawrangler.viewer.v0+json": {
       "columns": [
        {
         "name": "Depression_Level",
         "rawType": "int64",
         "type": "integer"
        },
        {
         "name": "count",
         "rawType": "int64",
         "type": "integer"
        }
       ],
       "ref": "dfa5d9b8-165b-462e-b775-89f241ede8bd",
       "rows": [
        [
         "1",
         "328"
        ],
        [
         "6",
         "315"
        ],
        [
         "4",
         "312"
        ],
        [
         "5",
         "304"
        ],
        [
         "9",
         "303"
        ],
        [
         "7",
         "298"
        ],
        [
         "3",
         "290"
        ],
        [
         "10",
         "290"
        ],
        [
         "8",
         "282"
        ],
        [
         "2",
         "278"
        ]
       ],
       "shape": {
        "columns": 1,
        "rows": 10
       }
      },
      "text/plain": [
       "Depression_Level\n",
       "1     328\n",
       "6     315\n",
       "4     312\n",
       "5     304\n",
       "9     303\n",
       "7     298\n",
       "3     290\n",
       "10    290\n",
       "8     282\n",
       "2     278\n",
       "Name: count, dtype: int64"
      ]
     },
     "execution_count": 7,
     "metadata": {},
     "output_type": "execute_result"
    }
   ],
   "source": [
    "Addict_Level = df['Depression_Level'].value_counts()\n",
    "Addict_Level"
   ]
  },
  {
   "cell_type": "code",
   "execution_count": 8,
   "id": "96816b6c",
   "metadata": {},
   "outputs": [
    {
     "name": "stderr",
     "output_type": "stream",
     "text": [
      "C:\\Users\\DELL\\AppData\\Local\\Temp\\ipykernel_43444\\2672818674.py:1: FutureWarning: \n",
      "\n",
      "Passing `palette` without assigning `hue` is deprecated and will be removed in v0.14.0. Assign the `x` variable to `hue` and set `legend=False` for the same effect.\n",
      "\n",
      "  sns.barplot( y= Addict_Level.index, x= Addict_Level.values, palette='coolwarm')\n"
     ]
    },
    {
     "data": {
      "text/plain": [
       "Text(0.5, 1.0, 'Depression Level Using Phone')"
      ]
     },
     "execution_count": 8,
     "metadata": {},
     "output_type": "execute_result"
    },
    {
     "data": {
      "image/png": "[encoded data removed]",
      "text/plain": [
       "<Figure size 640x480 with 1 Axes>"
      ]
     },
     "metadata": {},
     "output_type": "display_data"
    }
   ],
   "source": [
    "sns.barplot( y= Addict_Level.index, x= Addict_Level.values, palette='coolwarm')\n",
    "plt.title(\"Depression Level Using Phone\")\n"
   ]
  },
  {
   "cell_type": "code",
   "execution_count": 9,
   "id": "8ee57e1b",
   "metadata": {},
   "outputs": [
    {
     "data": {
      "application/vnd.microsoft.datawrangler.viewer.v0+json": {
       "columns": [
        {
         "name": "index",
         "rawType": "int64",
         "type": "integer"
        },
        {
         "name": "ID",
         "rawType": "int64",
         "type": "integer"
        },
        {
         "name": "Name",
         "rawType": "object",
         "type": "string"
        },
        {
         "name": "Age",
         "rawType": "int64",
         "type": "integer"
        },
        {
         "name": "Gender",
         "rawType": "object",
         "type": "string"
        },
        {
         "name": "Location",
         "rawType": "object",
         "type": "string"
        },
        {
         "name": "School_Grade",
         "rawType": "object",
         "type": "string"
        },
        {
         "name": "Daily_Usage_Hours",
         "rawType": "float64",
         "type": "float"
        },
        {
         "name": "Sleep_Hours",
         "rawType": "float64",
         "type": "float"
        },
        {
         "name": "Academic_Performance",
         "rawType": "int64",
         "type": "integer"
        },
        {
         "name": "Social_Interactions",
         "rawType": "int64",
         "type": "integer"
        },
        {
         "name": "Exercise_Hours",
         "rawType": "float64",
         "type": "float"
        },
        {
         "name": "Anxiety_Level",
         "rawType": "int64",
         "type": "integer"
        },
        {
         "name": "Depression_Level",
         "rawType": "int64",
         "type": "integer"
        },
        {
         "name": "Self_Esteem",
         "rawType": "int64",
         "type": "integer"
        },
        {
         "name": "Parental_Control",
         "rawType": "int64",
         "type": "integer"
        },
        {
         "name": "Screen_Time_Before_Bed",
         "rawType": "float64",
         "type": "float"
        },
        {
         "name": "Phone_Checks_Per_Day",
         "rawType": "int64",
         "type": "integer"
        },
        {
         "name": "Apps_Used_Daily",
         "rawType": "int64",
         "type": "integer"
        },
        {
         "name": "Time_on_Social_Media",
         "rawType": "float64",
         "type": "float"
        },
        {
         "name": "Time_on_Gaming",
         "rawType": "float64",
         "type": "float"
        },
        {
         "name": "Time_on_Education",
         "rawType": "float64",
         "type": "float"
        },
        {
         "name": "Phone_Usage_Purpose",
         "rawType": "object",
         "type": "string"
        },
        {
         "name": "Family_Communication",
         "rawType": "int64",
         "type": "integer"
        },
        {
         "name": "Weekend_Usage_Hours",
         "rawType": "float64",
         "type": "float"
        },
        {
         "name": "Addiction_Level",
         "rawType": "float64",
         "type": "float"
        }
       ],
       "ref": "5d27651b-6de3-4e76-b679-bb0b27fc4b13",
       "rows": [
        [
         "0",
         "1",
         "Shannon Francis",
         "13",
         "Female",
         "Hansonfort",
         "9th",
         "4.0",
         "6.1",
         "78",
         "5",
         "0.1",
         "10",
         "3",
         "8",
         "0",
         "1.4",
         "86",
         "19",
         "3.6",
         "1.7",
         "1.2",
         "Browsing",
         "4",
         "8.7",
         "10.0"
        ],
        [
         "1",
         "2",
         "Scott Rodriguez",
         "17",
         "Female",
         "Theodorefort",
         "7th",
         "5.5",
         "6.5",
         "70",
         "5",
         "0.0",
         "3",
         "7",
         "3",
         "0",
         "0.9",
         "96",
         "9",
         "1.1",
         "4.0",
         "1.8",
         "Browsing",
         "2",
         "5.3",
         "10.0"
        ],
        [
         "2",
         "3",
         "Adrian Knox",
         "13",
         "Other",
         "Lindseystad",
         "11th",
         "5.8",
         "5.5",
         "93",
         "8",
         "0.8",
         "2",
         "3",
         "10",
         "0",
         "0.5",
         "137",
         "8",
         "0.3",
         "1.5",
         "0.4",
         "Education",
         "6",
         "5.7",
         "9.2"
        ],
        [
         "3",
         "4",
         "Brittany Hamilton",
         "18",
         "Female",
         "West Anthony",
         "12th",
         "3.1",
         "3.9",
         "78",
         "8",
         "1.6",
         "9",
         "10",
         "3",
         "0",
         "1.4",
         "128",
         "7",
         "3.1",
         "1.6",
         "0.8",
         "Social Media",
         "8",
         "3.0",
         "9.8"
        ],
        [
         "4",
         "5",
         "Steven Smith",
         "14",
         "Other",
         "Port Lindsaystad",
         "9th",
         "2.5",
         "6.7",
         "56",
         "4",
         "1.1",
         "1",
         "5",
         "1",
         "0",
         "1.0",
         "96",
         "20",
         "2.6",
         "0.9",
         "1.1",
         "Gaming",
         "10",
         "3.7",
         "8.6"
        ]
       ],
       "shape": {
        "columns": 25,
        "rows": 5
       }
      },
      "text/html": [
       "<div>\n",
       "<style scoped>\n",
       "    .dataframe tbody tr th:only-of-type {\n",
       "        vertical-align: middle;\n",
       "    }\n",
       "\n",
       "    .dataframe tbody tr th {\n",
       "        vertical-align: top;\n",
       "    }\n",
       "\n",
       "    .dataframe thead th {\n",
       "        text-align: right;\n",
       "    }\n",
       "</style>\n",
       "<table border=\"1\" class=\"dataframe\">\n",
       "  <thead>\n",
       "    <tr style=\"text-align: right;\">\n",
       "      <th></th>\n",
       "      <th>ID</th>\n",
       "      <th>Name</th>\n",
       "      <th>Age</th>\n",
       "      <th>Gender</th>\n",
       "      <th>Location</th>\n",
       "      <th>School_Grade</th>\n",
       "      <th>Daily_Usage_Hours</th>\n",
       "      <th>Sleep_Hours</th>\n",
       "      <th>Academic_Performance</th>\n",
       "      <th>Social_Interactions</th>\n",
       "      <th>...</th>\n",
       "      <th>Screen_Time_Before_Bed</th>\n",
       "      <th>Phone_Checks_Per_Day</th>\n",
       "      <th>Apps_Used_Daily</th>\n",
       "      <th>Time_on_Social_Media</th>\n",
       "      <th>Time_on_Gaming</th>\n",
       "      <th>Time_on_Education</th>\n",
       "      <th>Phone_Usage_Purpose</th>\n",
       "      <th>Family_Communication</th>\n",
       "      <th>Weekend_Usage_Hours</th>\n",
       "      <th>Addiction_Level</th>\n",
       "    </tr>\n",
       "  </thead>\n",
       "  <tbody>\n",
       "    <tr>\n",
       "      <th>0</th>\n",
       "      <td>1</td>\n",
       "      <td>Shannon Francis</td>\n",
       "      <td>13</td>\n",
       "      <td>Female</td>\n",
       "      <td>Hansonfort</td>\n",
       "      <td>9th</td>\n",
       "      <td>4.0</td>\n",
       "      <td>6.1</td>\n",
       "      <td>78</td>\n",
       "      <td>5</td>\n",
       "      <td>...</td>\n",
       "      <td>1.4</td>\n",
       "      <td>86</td>\n",
       "      <td>19</td>\n",
       "      <td>3.6</td>\n",
       "      <td>1.7</td>\n",
       "      <td>1.2</td>\n",
       "      <td>Browsing</td>\n",
       "      <td>4</td>\n",
       "      <td>8.7</td>\n",
       "      <td>10.0</td>\n",
       "    </tr>\n",
       "    <tr>\n",
       "      <th>1</th>\n",
       "      <td>2</td>\n",
       "      <td>Scott Rodriguez</td>\n",
       "      <td>17</td>\n",
       "      <td>Female</td>\n",
       "      <td>Theodorefort</td>\n",
       "      <td>7th</td>\n",
       "      <td>5.5</td>\n",
       "      <td>6.5</td>\n",
       "      <td>70</td>\n",
       "      <td>5</td>\n",
       "      <td>...</td>\n",
       "      <td>0.9</td>\n",
       "      <td>96</td>\n",
       "      <td>9</td>\n",
       "      <td>1.1</td>\n",
       "      <td>4.0</td>\n",
       "      <td>1.8</td>\n",
       "      <td>Browsing</td>\n",
       "      <td>2</td>\n",
       "      <td>5.3</td>\n",
       "      <td>10.0</td>\n",
       "    </tr>\n",
       "    <tr>\n",
       "      <th>2</th>\n",
       "      <td>3</td>\n",
       "      <td>Adrian Knox</td>\n",
       "      <td>13</td>\n",
       "      <td>Other</td>\n",
       "      <td>Lindseystad</td>\n",
       "      <td>11th</td>\n",
       "      <td>5.8</td>\n",
       "      <td>5.5</td>\n",
       "      <td>93</td>\n",
       "      <td>8</td>\n",
       "      <td>...</td>\n",
       "      <td>0.5</td>\n",
       "      <td>137</td>\n",
       "      <td>8</td>\n",
       "      <td>0.3</td>\n",
       "      <td>1.5</td>\n",
       "      <td>0.4</td>\n",
       "      <td>Education</td>\n",
       "      <td>6</td>\n",
       "      <td>5.7</td>\n",
       "      <td>9.2</td>\n",
       "    </tr>\n",
       "    <tr>\n",
       "      <th>3</th>\n",
       "      <td>4</td>\n",
       "      <td>Brittany Hamilton</td>\n",
       "      <td>18</td>\n",
       "      <td>Female</td>\n",
       "      <td>West Anthony</td>\n",
       "      <td>12th</td>\n",
       "      <td>3.1</td>\n",
       "      <td>3.9</td>\n",
       "      <td>78</td>\n",
       "      <td>8</td>\n",
       "      <td>...</td>\n",
       "      <td>1.4</td>\n",
       "      <td>128</td>\n",
       "      <td>7</td>\n",
       "      <td>3.1</td>\n",
       "      <td>1.6</td>\n",
       "      <td>0.8</td>\n",
       "      <td>Social Media</td>\n",
       "      <td>8</td>\n",
       "      <td>3.0</td>\n",
       "      <td>9.8</td>\n",
       "    </tr>\n",
       "    <tr>\n",
       "      <th>4</th>\n",
       "      <td>5</td>\n",
       "      <td>Steven Smith</td>\n",
       "      <td>14</td>\n",
       "      <td>Other</td>\n",
       "      <td>Port Lindsaystad</td>\n",
       "      <td>9th</td>\n",
       "      <td>2.5</td>\n",
       "      <td>6.7</td>\n",
       "      <td>56</td>\n",
       "      <td>4</td>\n",
       "      <td>...</td>\n",
       "      <td>1.0</td>\n",
       "      <td>96</td>\n",
       "      <td>20</td>\n",
       "      <td>2.6</td>\n",
       "      <td>0.9</td>\n",
       "      <td>1.1</td>\n",
       "      <td>Gaming</td>\n",
       "      <td>10</td>\n",
       "      <td>3.7</td>\n",
       "      <td>8.6</td>\n",
       "    </tr>\n",
       "  </tbody>\n",
       "</table>\n",
       "<p>5 rows × 25 columns</p>\n",
       "</div>"
      ],
      "text/plain": [
       "   ID               Name  Age  Gender          Location School_Grade  \\\n",
       "0   1    Shannon Francis   13  Female        Hansonfort          9th   \n",
       "1   2    Scott Rodriguez   17  Female      Theodorefort          7th   \n",
       "2   3        Adrian Knox   13   Other       Lindseystad         11th   \n",
       "3   4  Brittany Hamilton   18  Female      West Anthony         12th   \n",
       "4   5       Steven Smith   14   Other  Port Lindsaystad          9th   \n",
       "\n",
       "   Daily_Usage_Hours  Sleep_Hours  Academic_Performance  Social_Interactions  \\\n",
       "0                4.0          6.1                    78                    5   \n",
       "1                5.5          6.5                    70                    5   \n",
       "2                5.8          5.5                    93                    8   \n",
       "3                3.1          3.9                    78                    8   \n",
       "4                2.5          6.7                    56                    4   \n",
       "\n",
       "   ...  Screen_Time_Before_Bed  Phone_Checks_Per_Day  Apps_Used_Daily  \\\n",
       "0  ...                     1.4                    86               19   \n",
       "1  ...                     0.9                    96                9   \n",
       "2  ...                     0.5                   137                8   \n",
       "3  ...                     1.4                   128                7   \n",
       "4  ...                     1.0                    96               20   \n",
       "\n",
       "   Time_on_Social_Media  Time_on_Gaming  Time_on_Education  \\\n",
       "0                   3.6             1.7                1.2   \n",
       "1                   1.1             4.0                1.8   \n",
       "2                   0.3             1.5                0.4   \n",
       "3                   3.1             1.6                0.8   \n",
       "4                   2.6             0.9                1.1   \n",
       "\n",
       "   Phone_Usage_Purpose  Family_Communication  Weekend_Usage_Hours  \\\n",
       "0             Browsing                     4                  8.7   \n",
       "1             Browsing                     2                  5.3   \n",
       "2            Education                     6                  5.7   \n",
       "3         Social Media                     8                  3.0   \n",
       "4               Gaming                    10                  3.7   \n",
       "\n",
       "   Addiction_Level  \n",
       "0             10.0  \n",
       "1             10.0  \n",
       "2              9.2  \n",
       "3              9.8  \n",
       "4              8.6  \n",
       "\n",
       "[5 rows x 25 columns]"
      ]
     },
     "execution_count": 9,
     "metadata": {},
     "output_type": "execute_result"
    }
   ],
   "source": [
    "df.head()"
   ]
  },
  {
   "cell_type": "code",
   "execution_count": null,
   "id": "126d683d",
   "metadata": {},
   "outputs": [
    {
     "name": "stderr",
     "output_type": "stream",
     "text": [
      "C:\\Users\\DELL\\AppData\\Local\\Temp\\ipykernel_43444\\2198971616.py:1: FutureWarning: \n",
      "\n",
      "Passing `palette` without assigning `hue` is deprecated and will be removed in v0.14.0. Assign the `x` variable to `hue` and set `legend=False` for the same effect.\n",
      "\n",
      "  sns.countplot(x= df['Age'], palette='rainbow')\n"
     ]
    },
    {
     "data": {
      "text/plain": [
       "<Axes: xlabel='Age', ylabel='count'>"
      ]
     },
     "execution_count": 10,
     "metadata": {},
     "output_type": "execute_result"
    },
    {
     "data": {
      "image/png": "[encoded data removed]",
      "text/plain": [
       "<Figure size 640x480 with 1 Axes>"
      ]
     },
     "metadata": {},
     "output_type": "display_data"
    }
   ],
   "source": [
    "#This shows the info about the user who use more phone\n",
    "sns.countplot(x= df['Age'], palette='rainbow')"
   ]
  },
  {
   "cell_type": "code",
   "execution_count": 17,
   "id": "14779375",
   "metadata": {},
   "outputs": [
    {
     "data": {
      "text/plain": [
       "<Axes: xlabel='Gender', ylabel='Addiction_Level'>"
      ]
     },
     "execution_count": 17,
     "metadata": {},
     "output_type": "execute_result"
    },
    {
     "data": {
      "image/png": "[encoded data removed]",
      "text/plain": [
       "<Figure size 640x480 with 1 Axes>"
      ]
     },
     "metadata": {},
     "output_type": "display_data"
    }
   ],
   "source": [
    "sns.barplot(y=df['Addiction_Level'], x=df['Gender'], hue=df['Gender'], data=df, estimator=np.mean)"
   ]
  },
  {
   "cell_type": "code",
   "execution_count": 27,
   "id": "622e56a5",
   "metadata": {},
   "outputs": [
    {
     "data": {
      "text/plain": [
       "Text(0.5, 1.0, 'Correlation: Addiction vs Performance & Communication')"
      ]
     },
     "execution_count": 27,
     "metadata": {},
     "output_type": "execute_result"
    },
    {
     "data": {
      "image/png": "[encoded data removed]",
      "text/plain": [
       "<Figure size 640x480 with 2 Axes>"
      ]
     },
     "metadata": {},
     "output_type": "display_data"
    }
   ],
   "source": [
    "\n",
    "corr = df[['Addiction_Level','Academic_Performance', 'Family_Communication']].corr()\n",
    "corr\n",
    "sns.heatmap(corr, annot=True, cmap='coolwarm', square=True)\n",
    "plt.title('Correlation: Addiction vs Performance & Communication')\n"
   ]
  },
  {
   "cell_type": "code",
   "execution_count": 43,
   "id": "25ef363c",
   "metadata": {},
   "outputs": [
    {
     "data": {
      "text/plain": [
       "<Axes: xlabel='Apps_Used_Daily', ylabel='count'>"
      ]
     },
     "execution_count": 43,
     "metadata": {},
     "output_type": "execute_result"
    },
    {
     "data": {
      "image/png": "[encoded data removed]",
      "text/plain": [
       "<Figure size 640x480 with 1 Axes>"
      ]
     },
     "metadata": {},
     "output_type": "display_data"
    }
   ],
   "source": [
    "sns.countplot(x=df['Apps_Used_Daily'], hue=df['Time_on_Education'], palette='coolwarm')\n"
   ]
  }
 ],
 "metadata": {
  "kernelspec": {
   "display_name": ".venv",
   "language": "python",
   "name": "python3"
  },
  "language_info": {
   "codemirror_mode": {
    "name": "ipython",
    "version": 3
   },
   "file_extension": ".py",
   "mimetype": "text/x-python",
   "name": "python",
   "nbconvert_exporter": "python",
   "pygments_lexer": "ipython3",
   "version": "3.11.0"
  }
 },
 "nbformat": 4,
 "nbformat_minor": 5
}
