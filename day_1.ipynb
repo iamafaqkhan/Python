{
 "cells": [
  {
   "cell_type": "code",
   "execution_count": 1,
   "id": "1674b5ad",
   "metadata": {},
   "outputs": [],
   "source": [
    "Human_choice = \"Rock\"\n",
    "Computer_choice = \"Paper\""
   ]
  },
  {
   "cell_type": "code",
   "execution_count": null,
   "id": "e6f64eb4",
   "metadata": {},
   "outputs": [
    {
     "name": "stdout",
     "output_type": "stream",
     "text": [
      "<class 'str'>\n",
      "<class 'str'>\n",
      "<class 'int'>\n",
      "<class 'float'>\n"
     ]
    }
   ],
   "source": [
    "Human_choice = \"Rock\"\n",
    "Computer_choice = \"Paper\"\n",
    "value = 10\n",
    "price = - 11.1\n",
    "\n",
    "print(type(Human_choice))\n",
    "print(type(Computer_choice))\n",
    "print(type(value))\n",
    "print(type(price))\n"
   ]
  },
  {
   "cell_type": "code",
   "execution_count": 3,
   "id": "116c18d0",
   "metadata": {},
   "outputs": [
    {
     "name": "stdout",
     "output_type": "stream",
     "text": [
      "\n"
     ]
    },
    {
     "ename": "ValueError",
     "evalue": "invalid literal for int() with base 10: ''",
     "output_type": "error",
     "traceback": [
      "\u001b[31m---------------------------------------------------------------------------\u001b[39m",
      "\u001b[31mValueError\u001b[39m                                Traceback (most recent call last)",
      "\u001b[36mCell\u001b[39m\u001b[36m \u001b[39m\u001b[32mIn[3]\u001b[39m\u001b[32m, line 3\u001b[39m\n\u001b[32m      1\u001b[39m name = \u001b[38;5;28minput\u001b[39m(\u001b[33m\"\u001b[39m\u001b[33mEnter your Name: \u001b[39m\u001b[33m\"\u001b[39m)\n\u001b[32m      2\u001b[39m \u001b[38;5;28mprint\u001b[39m(name)\n\u001b[32m----> \u001b[39m\u001b[32m3\u001b[39m age = \u001b[38;5;28;43mint\u001b[39;49m\u001b[43m(\u001b[49m\u001b[38;5;28;43minput\u001b[39;49m\u001b[43m(\u001b[49m\u001b[33;43m\"\u001b[39;49m\u001b[33;43mEnter your Age: \u001b[39;49m\u001b[33;43m\"\u001b[39;49m\u001b[43m)\u001b[49m\u001b[43m)\u001b[49m\n\u001b[32m      4\u001b[39m \u001b[38;5;28mprint\u001b[39m(age)\n\u001b[32m      5\u001b[39m price = \u001b[38;5;28mfloat\u001b[39m(\u001b[38;5;28minput\u001b[39m(\u001b[33m\"\u001b[39m\u001b[33mEnter your jacket Price: \u001b[39m\u001b[33m\"\u001b[39m))\n",
      "\u001b[31mValueError\u001b[39m: invalid literal for int() with base 10: ''"
     ]
    }
   ],
   "source": [
    "name = input(\"Enter your Name: \")\n",
    "print(name)\n",
    "age = int(input(\"Enter your Age: \"))\n",
    "print(age)\n",
    "price = float(input(\"Enter your jacket Price: \"))\n",
    "print(price)\n",
    "\n",
    "print(\"Hello My Name is\",name,\" and my Age is  \", age ,\"My Jacket Price is\" ,price)\n"
   ]
  },
  {
   "cell_type": "code",
   "execution_count": null,
   "id": "a8428320",
   "metadata": {},
   "outputs": [
    {
     "name": "stdout",
     "output_type": "stream",
     "text": [
      "AfaqAfaqAfaqAfaqAfaqAfaqAfaqAfaqAfaqAfaqNothing\n",
      "1\n"
     ]
    }
   ],
   "source": [
    "name = 'Afaq'\n",
    "number = 10\n",
    "number2 = 10\n",
    "\n",
    "print((number*name) + 'Nothing')\n",
    "print(number//number2)#Integer division sign '//'"
   ]
  },
  {
   "cell_type": "code",
   "execution_count": null,
   "id": "dcdafac1",
   "metadata": {},
   "outputs": [
    {
     "name": "stdout",
     "output_type": "stream",
     "text": [
      "Rock\n"
     ]
    }
   ],
   "source": [
    "def choice():\n",
    "    Human_choice = \"Rock\"\n",
    "    Computer_choice = \"Paper\"\n",
    "\n",
    "    return Human_choice\n",
    "\n",
    "response = choice() \n",
    "print(response)"
   ]
  },
  {
   "cell_type": "code",
   "execution_count": null,
   "id": "d3ff1f3a",
   "metadata": {},
   "outputs": [
    {
     "name": "stdout",
     "output_type": "stream",
     "text": [
      "faq\n",
      "h\n",
      "Khan\n",
      "khan\n"
     ]
    },
    {
     "data": {
      "text/plain": [
       "'koan'"
      ]
     },
     "execution_count": 28,
     "metadata": {},
     "output_type": "execute_result"
    }
   ],
   "source": [
    "string = \"Afaq Ahmad khan\"\n",
    "ch = string[1:4]\n",
    "print(ch)\n",
    "\n",
    "name = \"khan\"\n",
    "print(name[1:2])\n",
    "\n",
    "name.endswith(\"n\" and \"h\") \n",
    "change = name.capitalize()\n",
    "print(change)\n",
    "print(name)\n",
    "\n",
    "name.replace(\"h\", \"o\")"
   ]
  },
  {
   "cell_type": "code",
   "execution_count": null,
   "id": "fe3cfd9c",
   "metadata": {},
   "outputs": [
    {
     "name": "stdout",
     "output_type": "stream",
     "text": [
      "213\n"
     ]
    }
   ],
   "source": [
    "string = \" In the world of programming, Python is considered one of the most versatile \" \\\n",
    "\"and beginner-friendly languages. It is widely used in web development, \" \\\n",
    "\"data science, artificial intelligence, automation, and much more.\"\n",
    "\n",
    "\n",
    "string.find(\"data science\")\n",
    "# string.replace(\"data science\", \"ai\")\n",
    "\n",
    "length = len(string)\n",
    "print(length)"
   ]
  },
  {
   "cell_type": "code",
   "execution_count": null,
   "id": "8d8d6ff3",
   "metadata": {},
   "outputs": [
    {
     "name": "stdout",
     "output_type": "stream",
     "text": [
      "['Afaq', 22, 3.6, 'Khan', 'Babar']\n",
      "['Afaq', 'Ahmad', 22, 3.6, 'Khan', 'Babar']\n",
      "['Babar', 'Khan', 3.6, 22, 'Ahmad', 'Afaq']\n",
      "['Babar', 3.6, 22, 'Ahmad', 'Afaq']\n",
      "['Babar', 3.6, 22, 'Ahmad']\n"
     ]
    }
   ],
   "source": [
    "list = [\"Afaq\", 22, 3.6, \"Khan\"]\n",
    "list.append(\"Babar\")\n",
    "print(list)\n",
    "\n",
    "list.insert(1, \"Ahmad\")\n",
    "print(list)\n",
    "\n",
    "list.reverse()\n",
    "print(list)\n",
    "\n",
    "list.remove(\"Khan\")\n",
    "print(list)\n",
    "\n",
    "list.pop(4)\n",
    "print(list)\n"
   ]
  },
  {
   "cell_type": "code",
   "execution_count": null,
   "id": "8b68969d",
   "metadata": {},
   "outputs": [
    {
     "name": "stdout",
     "output_type": "stream",
     "text": [
      "<class 'tuple'>\n"
     ]
    }
   ],
   "source": [
    "tup = (1,)\n",
    "print(type(tup))\n"
   ]
  },
  {
   "cell_type": "code",
   "execution_count": null,
   "id": "7d56e762",
   "metadata": {},
   "outputs": [
    {
     "name": "stdout",
     "output_type": "stream",
     "text": [
      "['4', '4', '4']\n"
     ]
    }
   ],
   "source": [
    "goalStore = []\n",
    "\n",
    "goal1 = input(\"Enter 1st Goal: \")\n",
    "goal2 = input(\"Enter 2st Goal: \")\n",
    "goal3 = input(\"Enter 3st Goal: \")\n",
    "\n",
    "goalStore.append(goal1)\n",
    "goalStore.append(goal2)\n",
    "goalStore.append(goal3)\n",
    "\n",
    "print(goalStore)\n",
    "\n"
   ]
  },
  {
   "cell_type": "code",
   "execution_count": null,
   "id": "87d5058b",
   "metadata": {},
   "outputs": [
    {
     "name": "stdout",
     "output_type": "stream",
     "text": [
      "The list is Palindrome\n"
     ]
    }
   ],
   "source": [
    "list1 = [1, 2, 3, 2, 1]\n",
    "list2 = [\"r\", \"a\", \"c\", \"e\", \"c\",\"a\",\"r\"]\n",
    "\n",
    "copied1 = list1.copy()\n",
    "copied2 = list2.copy()\n",
    "\n",
    "copied1.reverse()\n",
    "copied2.reverse()\n",
    "\n",
    "if list1 == copied1 and list2 == copied2:\n",
    "    print(\"The list is Palindrome\")\n",
    "else:\n",
    "    print(\"No\")"
   ]
  },
  {
   "cell_type": "code",
   "execution_count": null,
   "id": "65a70d0e",
   "metadata": {},
   "outputs": [
    {
     "name": "stdout",
     "output_type": "stream",
     "text": [
      "{4, 5}\n",
      "{1, 2, 4, 5, 6, 7}\n",
      "5\n"
     ]
    }
   ],
   "source": [
    "set1 = {1,2,4,5}\n",
    "set2 = {4,5,6,7}\n",
    "\n",
    "intersection = set1.intersection(set2)\n",
    "print(intersection)\n",
    "\n",
    "union = set1.union(set2)\n",
    "print(union)\n",
    "\n",
    "classroom = {\"Python\", \"Java\", \"C++\", \"C#\", \"JavaScript\", \"Python\", \"C#\", \"Java\" }\n",
    "print(len(classroom))\n"
   ]
  },
  {
   "cell_type": "code",
   "execution_count": null,
   "id": "553a4067",
   "metadata": {},
   "outputs": [
    {
     "name": "stdout",
     "output_type": "stream",
     "text": [
      "{'4': '4'}\n"
     ]
    }
   ],
   "source": [
    "grade = {}\n",
    "\n",
    "subject = input(\"Enter Subject :\")\n",
    "marks = input(\"Enter Marks:\")\n",
    "\n",
    "grade.update({subject:marks})\n",
    "\n",
    "print(grade)"
   ]
  },
  {
   "cell_type": "code",
   "execution_count": null,
   "id": "7a81565a",
   "metadata": {},
   "outputs": [
    {
     "name": "stdout",
     "output_type": "stream",
     "text": [
      "4 x 1 = 4\n",
      "4 x 2 = 8\n",
      "4 x 3 = 12\n",
      "4 x 4 = 16\n",
      "4 x 5 = 20\n",
      "4 x 6 = 24\n",
      "4 x 7 = 28\n",
      "4 x 8 = 32\n",
      "4 x 9 = 36\n",
      "4 x 10 = 40\n"
     ]
    }
   ],
   "source": [
    "number = int(input(\"Enter any Number:\"))\n",
    "\n",
    "count = 1\n",
    "while count <= 10:\n",
    "    print(number , \"x\" , count , \"=\" , number*count)\n",
    "    count+=1"
   ]
  },
  {
   "cell_type": "code",
   "execution_count": null,
   "id": "43dbdb81",
   "metadata": {},
   "outputs": [
    {
     "name": "stdout",
     "output_type": "stream",
     "text": [
      "1\n",
      "2\n",
      "3\n",
      "4\n",
      "5\n",
      "6\n",
      "7\n",
      "8\n",
      "9\n",
      "10\n"
     ]
    }
   ],
   "source": [
    "list = [1,2,3,4,5,6,7,8,9,10]\n",
    "\n",
    "count = 0\n",
    "\n",
    "while count < len(list):\n",
    "    print(list[count])\n",
    "    count+=1\n",
    "\n"
   ]
  },
  {
   "cell_type": "code",
   "execution_count": null,
   "id": "dfb1441f",
   "metadata": {},
   "outputs": [
    {
     "name": "stdout",
     "output_type": "stream",
     "text": [
      "7 is found\n"
     ]
    }
   ],
   "source": [
    "tup = (1,2,3,4,5,6,7,8,9,10)\n",
    "\n",
    "num = int(input(\"Enter any Number:\"))\n",
    "\n",
    "count = 0\n",
    "while count < len(tup):\n",
    "    if(num == tup[count]):\n",
    "        print(num, \"is found\")\n",
    "    count+=1\n"
   ]
  },
  {
   "cell_type": "code",
   "execution_count": null,
   "id": "11e06bbf",
   "metadata": {},
   "outputs": [
    {
     "name": "stdout",
     "output_type": "stream",
     "text": [
      "60 is present in the list\n"
     ]
    }
   ],
   "source": [
    "list = [10, 20, 40 , 50, 60]\n",
    "\n",
    "number = int(input(\"Enter anf Number:\"))\n",
    "for num in list:\n",
    "    if(number == num):\n",
    "        print(number,\"is present in the list\")"
   ]
  },
  {
   "cell_type": "code",
   "execution_count": null,
   "id": "f544bee0",
   "metadata": {},
   "outputs": [
    {
     "name": "stdout",
     "output_type": "stream",
     "text": [
      "5 x 1 = 5\n",
      "5 x 2 = 10\n",
      "5 x 3 = 15\n",
      "5 x 4 = 20\n",
      "5 x 5 = 25\n",
      "5 x 6 = 30\n",
      "5 x 7 = 35\n",
      "5 x 8 = 40\n",
      "5 x 9 = 45\n",
      "5 x 10 = 50\n"
     ]
    }
   ],
   "source": [
    "num = 5\n",
    "for i in range(1,11):\n",
    "    print(num, \"x\", i,\"=\",num*i)"
   ]
  },
  {
   "cell_type": "code",
   "execution_count": null,
   "id": "3be44a87",
   "metadata": {},
   "outputs": [
    {
     "name": "stdout",
     "output_type": "stream",
     "text": [
      "Factorial of 5 is 20\n"
     ]
    }
   ],
   "source": [
    "n = int(input(\"Enter any Number:\"))\n",
    "\n",
    "for fact in range(1, n):\n",
    "    fact*=n\n",
    "    \n",
    "print(\"Factorial of\", n, \"is\", fact)\n"
   ]
  },
  {
   "cell_type": "code",
   "execution_count": null,
   "id": "d04a5fbe",
   "metadata": {},
   "outputs": [
    {
     "name": "stdout",
     "output_type": "stream",
     "text": [
      "Afaq Ahmad khan\n"
     ]
    }
   ],
   "source": [
    "print(\"Afaq Ahmad\", end=\" \")\n",
    "print(\"khan\")"
   ]
  },
  {
   "cell_type": "code",
   "execution_count": null,
   "id": "f72cdb49",
   "metadata": {},
   "outputs": [
    {
     "name": "stdout",
     "output_type": "stream",
     "text": [
      "Afaq Ahmad Khan 22 4 "
     ]
    }
   ],
   "source": [
    "list = [\"Afaq\", \"Ahmad\", \"Khan\", 22, 4]\n",
    "\n",
    "def listlength(list):\n",
    "    return len(list)\n",
    "\n",
    "listlength(list)\n",
    "\n",
    "def elementsInList(list):\n",
    "    for item in list:\n",
    "        print(item, end=\" \")\n",
    "\n",
    "elementsInList(list)\n",
    "\n"
   ]
  },
  {
   "cell_type": "code",
   "execution_count": null,
   "id": "e48590f0",
   "metadata": {},
   "outputs": [
    {
     "data": {
      "text/plain": [
       "3628800"
      ]
     },
     "execution_count": 18,
     "metadata": {},
     "output_type": "execute_result"
    }
   ],
   "source": [
    "def factorial(n):\n",
    "    if n == 0:\n",
    "        return 1\n",
    "    else:\n",
    "        return n * factorial(n-1)\n",
    "    \n",
    "factorial(10)"
   ]
  },
  {
   "cell_type": "code",
   "execution_count": null,
   "id": "90006eae",
   "metadata": {},
   "outputs": [
    {
     "name": "stdout",
     "output_type": "stream",
     "text": [
      "5648.0 PK\n"
     ]
    }
   ],
   "source": [
    "usd  = float(input(\"Enter Pakistani Rupees:\"))\n",
    "\n",
    "\n",
    "def currencyConverter(usd):\n",
    "\n",
    "    convert = usd * 282.40\n",
    "    return convert\n",
    "\n",
    "store = currencyConverter(usd)\n",
    "\n",
    "print(store , \"PK\")\n",
    "\n",
    "\n"
   ]
  },
  {
   "cell_type": "code",
   "execution_count": null,
   "id": "959c9086",
   "metadata": {},
   "outputs": [
    {
     "data": {
      "text/plain": [
       "'ODD'"
      ]
     },
     "execution_count": 6,
     "metadata": {},
     "output_type": "execute_result"
    }
   ],
   "source": [
    "num = int(input(\"Enter any Number:\"))\n",
    "\n",
    "def evenOdd(num):\n",
    "    if num % 2 == 0:\n",
    "        return \"EVEN\"\n",
    "    else:\n",
    "        return \"ODD\"\n",
    "\n",
    "evenOdd(num)"
   ]
  },
  {
   "cell_type": "code",
   "execution_count": null,
   "id": "e82ef8e7",
   "metadata": {},
   "outputs": [
    {
     "name": "stdout",
     "output_type": "stream",
     "text": [
      "9\n"
     ]
    }
   ],
   "source": [
    "n = int(input(\"Enter Numbers:\"))\n",
    "\n",
    "def naturalNumber(n):\n",
    "    if n == 0:\n",
    "       return 0\n",
    "    else:\n",
    "        return n + naturalNumber(n-1)\n",
    "\n",
    "store = naturalNumber(n)\n",
    "print(store)\n",
    "\n",
    "def naturalList():\n",
    "    if n == 0:\n",
    "        return []\n",
    "    else:\n",
    "        return [n] +  naturalNumber(n-1)\n",
    "\n"
   ]
  },
  {
   "cell_type": "code",
   "execution_count": null,
   "id": "455e9c4b",
   "metadata": {},
   "outputs": [
    {
     "name": "stdout",
     "output_type": "stream",
     "text": [
      "Afaq\n",
      "Ahmad\n",
      "khan\n"
     ]
    }
   ],
   "source": [
    "list1 = [\"Afaq\", \"Ahmad\", \"khan\"]\n",
    "\n",
    "def listElement(list1, index=0):\n",
    "    if index == len(list1):\n",
    "       return \n",
    "    print(list1[index])\n",
    "    listElement(list1, index + 1)\n",
    "       \n",
    "listElement(list1)"
   ]
  },
  {
   "cell_type": "code",
   "execution_count": null,
   "id": "f64a3093",
   "metadata": {},
   "outputs": [
    {
     "name": "stdout",
     "output_type": "stream",
     "text": [
      "Once upon \n"
     ]
    }
   ],
   "source": [
    "f = open(\"name.txt\", 'r')\n",
    "data = f.read(10)\n",
    "print(data)\n",
    "\n"
   ]
  },
  {
   "cell_type": "code",
   "execution_count": null,
   "id": "0802a031",
   "metadata": {},
   "outputs": [
    {
     "data": {
      "text/plain": [
       "23"
      ]
     },
     "execution_count": 8,
     "metadata": {},
     "output_type": "execute_result"
    }
   ],
   "source": [
    "f = open(\"name.txt\", 'a')\n",
    "f.write(\"This is Afaq Ahmad Khan\")"
   ]
  },
  {
   "cell_type": "code",
   "execution_count": 18,
   "id": "ced46336",
   "metadata": {},
   "outputs": [],
   "source": [
    "f = open(\"name.txt\", 'w')\n",
    "f.write(\"Me\")\n",
    "f.close()"
   ]
  },
  {
   "cell_type": "code",
   "execution_count": 1,
   "id": "80b23779",
   "metadata": {},
   "outputs": [],
   "source": [
    "import os\n",
    "os.remove(\"name.txt\")"
   ]
  },
  {
   "cell_type": "code",
   "execution_count": 4,
   "id": "384c18dc",
   "metadata": {},
   "outputs": [],
   "source": [
    "with open(\"practice.txt\", 'w') as f:\n",
    "    f.write(\"Hi Everyone\\nwe are learning File I/O\\nThis is a practice file\\nI am Learning Java\\n I Love Java\")"
   ]
  },
  {
   "cell_type": "code",
   "execution_count": 7,
   "id": "5d6e1ed9",
   "metadata": {},
   "outputs": [
    {
     "name": "stdout",
     "output_type": "stream",
     "text": [
      "Hi Everyone\n",
      "we are learning File I/O\n",
      "This is a practice file\n",
      "I am Learning Java\n",
      " I Love Java\n"
     ]
    }
   ],
   "source": [
    "with open(\"practice.txt\", 'r') as f:\n",
    "    data = f.read()\n",
    "    print(data)"
   ]
  },
  {
   "cell_type": "code",
   "execution_count": 13,
   "id": "1c825f94",
   "metadata": {},
   "outputs": [
    {
     "name": "stdout",
     "output_type": "stream",
     "text": [
      "Hi Everyone\n",
      "we are learning File I/O\n",
      "This is a practice file\n",
      "I am Learning Java\n",
      " I Love Java\n",
      "Hi Everyone\n",
      "we are learning File I/O\n",
      "This is a practice file\n",
      "I am Learning Python\n",
      " I Love Python\n"
     ]
    }
   ],
   "source": [
    "with open(\"practice.txt\", 'r') as f:\n",
    "    data = f.read()\n",
    "    print(data)\n",
    "\n",
    "newdata = data.replace(\"Java\",\"Python\")\n",
    "print(newdata)\n",
    "\n",
    "with open(\"practice.txt\", 'w') as f:\n",
    "    f.write(newdata)"
   ]
  },
  {
   "cell_type": "code",
   "execution_count": 33,
   "id": "fb83f603",
   "metadata": {},
   "outputs": [
    {
     "name": "stdout",
     "output_type": "stream",
     "text": [
      "not Found\n"
     ]
    }
   ],
   "source": [
    "with open(\"practice.txt\", 'r') as f:\n",
    "    data = f.read()\n",
    "    # print(data)\n",
    "\n",
    "\n",
    "if (data.find(\"x\") != -1):\n",
    "    print(\"Found\")\n",
    "else:\n",
    "    print(\"not Found\")"
   ]
  },
  {
   "cell_type": "code",
   "execution_count": 11,
   "id": "1ba0b52c",
   "metadata": {},
   "outputs": [
    {
     "name": "stdout",
     "output_type": "stream",
     "text": [
      "5\n"
     ]
    }
   ],
   "source": [
    "def firstOccurrence():\n",
    "    line = 1\n",
    "    word = \"Love\"\n",
    "    data  = True\n",
    "    with open(\"practice.txt\", 'r') as f:\n",
    "        while(data):\n",
    "             data = f.readline()\n",
    "             if (word in data):\n",
    "                 print(line)\n",
    "                 return\n",
    "             line+=1\n",
    "    return \"Not Found\"\n",
    "\n",
    "firstOccurrence()"
   ]
  },
  {
   "cell_type": "code",
   "execution_count": 20,
   "id": "e291654a",
   "metadata": {},
   "outputs": [
    {
     "name": "stdout",
     "output_type": "stream",
     "text": [
      "John 30 5000\n",
      "Ali 22 1000\n",
      "Khan 21 2000\n"
     ]
    }
   ],
   "source": [
    "class Employees:\n",
    "    empName = \"Khan\" # class attribute | obj Att >> class Att\n",
    "    def __init__(self, empName, empAge, empSalary):\n",
    "        self.name = empName #self.name --> Object/instance variable/Attribute\n",
    "        self.age = empAge\n",
    "        self.salary = empSalary\n",
    "\n",
    "emp1 = Employees(\"John\", 30, 5000)\n",
    "emp2 = Employees(\"Ali\", 22, 1000)\n",
    "emp3 = Employees(\"Khan\", 21, 2000)\n",
    "\n",
    "print(emp1.name, end=' ')\n",
    "print(emp1.age, end=' ')\n",
    "print(emp1.salary)\n",
    "\n",
    "print(emp2.name, end=' ')\n",
    "print(emp2.age, end=' ')\n",
    "print(emp2.salary)\n",
    "\n",
    "print(emp3.name, end=' ')\n",
    "print(emp3.age, end=' ')\n",
    "print(emp3.salary)\n",
    "\n",
    "\n",
    "        \n",
    "        \n",
    "\n"
   ]
  },
  {
   "cell_type": "code",
   "execution_count": 15,
   "id": "7ea22f54",
   "metadata": {},
   "outputs": [
    {
     "name": "stdout",
     "output_type": "stream",
     "text": [
      "Student Name:  Afaq\n",
      "Age:  22\n",
      "Student Average Marks:  210\n"
     ]
    }
   ],
   "source": [
    "class Student:\n",
    "    def __init__(self, name, age, marks1, marks2, marks3):\n",
    "        self.name = name\n",
    "        self.age = age\n",
    "        self.marks1 = marks1\n",
    "        self.marks2 = marks2\n",
    "        self.marks3 = marks3\n",
    "\n",
    "    def average(self):\n",
    "        average_sum =  self.marks1 +  self.marks2 +  self.marks3 // 3\n",
    "        return average_sum\n",
    "    \n",
    "    def display(self):\n",
    "        print(\"Student Name: \",self.name)\n",
    "        print(\"Age: \",self.age)\n",
    "        print(\"Student Average Marks: \",self.average())\n",
    "\n",
    "    \n",
    "s1 = Student(\"Afaq\",22,90,90,90)\n",
    "s1.display()\n"
   ]
  },
  {
   "cell_type": "code",
   "execution_count": 21,
   "id": "b0e5dbc4",
   "metadata": {},
   "outputs": [
    {
     "name": "stdout",
     "output_type": "stream",
     "text": [
      "+-------------------+\n",
      "Processing...\n",
      "Amount Debited:  2000\n",
      "Transaction Successful\n",
      "Remaining Balance:  8000\n",
      "+-------------------+\n",
      "+-------------------+\n",
      "Account Owner :  Afaq\n",
      "Account Number:  17220031\n",
      "Total balance :  8000\n",
      "+-------------------+\n",
      "+-------------------+\n",
      "Processing...\n",
      "Amount Credited:  200\n",
      "Transaction Successful\n",
      "Total Balance:  8200\n",
      "+-------------------+\n"
     ]
    }
   ],
   "source": [
    "class Account:\n",
    "    def __init__(self, name, balance, accountNumber):\n",
    "        self.name = name\n",
    "        self.balance = balance\n",
    "        self.accountNumber = accountNumber\n",
    "\n",
    "    def debit(self,amount):\n",
    "        self.balance -= amount\n",
    "        print(\"+-------------------+\")\n",
    "        print(\"Processing...\")\n",
    "        print(\"Amount Debited: \",amount)\n",
    "        print(\"Transaction Successful\")\n",
    "        print(\"Remaining Balance: \",self.balance)\n",
    "        print(\"+-------------------+\")\n",
    "        return\n",
    "    \n",
    "    def credit(self,amount):\n",
    "        self.balance += amount\n",
    "        print(\"+-------------------+\")\n",
    "        print(\"Processing...\")\n",
    "        print(\"Amount Credited: \",amount)\n",
    "        print(\"Transaction Successful\")\n",
    "        print(\"Total Balance: \",self.balance)\n",
    "        print(\"+-------------------+\")\n",
    "\n",
    "        return\n",
    "    \n",
    "    def displayBalance(self):\n",
    "        print(\"+-------------------+\")\n",
    "        print(\"Account Owner : \",self.name)\n",
    "        print(\"Account Number: \",self.accountNumber)\n",
    "        print(\"Total balance : \",self.balance)\n",
    "        print(\"+-------------------+\")\n",
    "\n",
    "        return\n",
    "    \n",
    "p1 = Account(\"Afaq\",10000,17220031)\n",
    "p1.debit(2000)\n",
    "p1.displayBalance()\n",
    "p1.credit(200)"
   ]
  },
  {
   "cell_type": "code",
   "execution_count": 28,
   "id": "2672f29d",
   "metadata": {},
   "outputs": [
    {
     "name": "stdout",
     "output_type": "stream",
     "text": [
      "khan\n"
     ]
    }
   ],
   "source": [
    "class Employee:\n",
    "    def __init__(self, name):\n",
    "        self.name = name\n",
    "        \n",
    "s1 = Employee(\"khan\")\n",
    "print(s1.name)\n",
    "del s1.name #delete the attribute name from the object s1\n",
    "\n"
   ]
  },
  {
   "cell_type": "code",
   "execution_count": 13,
   "id": "3e5b09b7",
   "metadata": {},
   "outputs": [
    {
     "name": "stdout",
     "output_type": "stream",
     "text": [
      "2020 <--Yeh tah woh code\n",
      "None\n"
     ]
    }
   ],
   "source": [
    "class Student:\n",
    "    def __init__(self, name, secretCode):\n",
    "        self.name = name\n",
    "        self.__secretCode = secretCode\n",
    "\n",
    "    def __getSecretCode(self):\n",
    "        print(self.__secretCode, \"<--Yeh tah woh code\")\n",
    "\n",
    "    def setSecretCode(self):\n",
    "        self.__getSecretCode()\n",
    "\n",
    "s1 = Student(\"Khan\", 2020)\n",
    "# print(s1.name,s1.secretCode)\n",
    "print(s1.setSecretCode())\n"
   ]
  },
  {
   "cell_type": "code",
   "execution_count": 16,
   "id": "e23ace3b",
   "metadata": {},
   "outputs": [
    {
     "name": "stdout",
     "output_type": "stream",
     "text": [
      "1\n"
     ]
    }
   ],
   "source": [
    "class A:\n",
    "    var1 = 1\n",
    "\n",
    "class B:\n",
    "    var2 = 2\n",
    "\n",
    "class C(A, B):\n",
    "    var3 = 3\n",
    "\n",
    "s1 = C()\n",
    "\n",
    "print(s1.var1)\n",
    "    "
   ]
  },
  {
   "cell_type": "code",
   "execution_count": 9,
   "id": "ccd79566",
   "metadata": {},
   "outputs": [
    {
     "name": "stdout",
     "output_type": "stream",
     "text": [
      "GulBuilds pirpiai 3 2\n"
     ]
    }
   ],
   "source": [
    "class Building:\n",
    "    Name = \"GulBuilds\"\n",
    "\n",
    "\n",
    "class Home(Building):\n",
    "    def __init__(self, address, num_bedrooms, num_bathrooms):\n",
    "        self.address = address\n",
    "        self.num_bedrooms = num_bedrooms\n",
    "        self.num_bathrooms = num_bathrooms\n",
    "\n",
    "h1 = Home(\"pirpiai\", 3,2)\n",
    "print(h1.Name, h1.address, h1.num_bedrooms, h1.num_bathrooms)\n",
    "\n"
   ]
  },
  {
   "cell_type": "code",
   "execution_count": 9,
   "id": "c7835c92",
   "metadata": {},
   "outputs": [
    {
     "name": "stdout",
     "output_type": "stream",
     "text": [
      "Ford\n",
      "Mercedes\n",
      "Chh..Chh..Chh\n",
      " Car started..\n",
      "Brrr..Brrr..Brrr\n",
      " Car stopped..\n",
      "-----------------\n",
      "Ford\n",
      "Tesla\n",
      "Chh..Chh..Chh\n",
      " Car started..\n",
      "Brrr..Brrr..Brrr\n",
      " Car stopped..\n"
     ]
    }
   ],
   "source": [
    "class Car:\n",
    "    Model = \"Ford\"\n",
    "\n",
    "    @staticmethod\n",
    "    def start():\n",
    "        print(\"Chh..Chh..Chh\\n\",\"Car started..\")\n",
    "    \n",
    "    @staticmethod\n",
    "    def stop():\n",
    "        print(\"Brrr..Brrr..Brrr\\n\",\"Car stopped..\")\n",
    "\n",
    "class ElectricCar(Car):\n",
    "    def __init__(self, name):\n",
    "        self.name = name\n",
    "        \n",
    "\n",
    "class PetrolCar(Car):\n",
    "    def __init__(self, name):\n",
    "        self.name = name\n",
    "\n",
    "\n",
    "E2 = PetrolCar(\"Mercedes\")\n",
    "print(E2.Model)\n",
    "print(E2.name)\n",
    "E2.start()\n",
    "E2.stop()\n",
    "print(\"-----------------\")\n",
    "\n",
    "\n",
    "E1 = ElectricCar(\"Tesla\")\n",
    "print(E1.Model)\n",
    "print(E1.name)\n",
    "E1.start()\n",
    "E1.stop()\n",
    "\n",
    "    "
   ]
  },
  {
   "cell_type": "code",
   "execution_count": 17,
   "id": "c10754a2",
   "metadata": {},
   "outputs": [
    {
     "name": "stdout",
     "output_type": "stream",
     "text": [
      "Tom\n",
      "Puppy\n",
      "Dog&Cat\n"
     ]
    }
   ],
   "source": [
    "#Multiple inheritance\n",
    "\n",
    "class Dog:\n",
    "    d_name = \"Puppy\"\n",
    "\n",
    "class Cat:\n",
    "    c_name = \"Tom\"\n",
    "class Animal(Cat, Dog):\n",
    "    property = \"Dog&Cat\"\n",
    "\n",
    "a1 = Animal()\n",
    "print(a1.c_name)\n",
    "print(a1.d_name)\n",
    "print(a1.property)\n",
    "\n"
   ]
  },
  {
   "cell_type": "code",
   "execution_count": 29,
   "id": "ee03bc21",
   "metadata": {},
   "outputs": [
    {
     "name": "stdout",
     "output_type": "stream",
     "text": [
      "A-Class\n",
      "Mercedes\n",
      "2020\n",
      "Chh..Chh..Chh\n",
      " Car started..\n",
      "Brrr..Brrr..Brrr\n",
      " Car stopped..\n",
      "-----------------\n",
      "A-Class\n",
      "Tesla\n",
      "2020\n",
      "Chh..Chh..Chh\n",
      " Car started..\n",
      "Brrr..Brrr..Brrr\n",
      " Car stopped..\n"
     ]
    }
   ],
   "source": [
    "#Super Method --> Used to Access methods of parent class from child class\n",
    "class Car:\n",
    "    def __init__(self, year, Model):\n",
    "        self.year = year\n",
    "        self.Model = Model\n",
    "\n",
    "    @staticmethod\n",
    "    def start():\n",
    "        print(\"Chh..Chh..Chh\\n\",\"Car started..\")\n",
    "    \n",
    "    @staticmethod\n",
    "    def stop():\n",
    "        print(\"Brrr..Brrr..Brrr\\n\",\"Car stopped..\")\n",
    "\n",
    "class ElectricCar(Car):\n",
    "    def __init__(self, name, year, Model):\n",
    "        super().__init__(year, Model)\n",
    "        self.name = name\n",
    "        \n",
    "        \n",
    "\n",
    "class PetrolCar(Car):\n",
    "    def __init__(self, name, year, Model):\n",
    "        super().__init__(year, Model)\n",
    "        self.name = name\n",
    "        # super().start()\n",
    "        \n",
    "\n",
    "\n",
    "E2 = PetrolCar(\"Mercedes\", \"2020\", \"A-Class\")\n",
    "\n",
    "print(E2.Model)\n",
    "print(E2.name)\n",
    "print(E2.year)\n",
    "E2.start()\n",
    "E2.stop()\n",
    "print(\"-----------------\")\n",
    "\n",
    "\n",
    "E1 = ElectricCar(\"Tesla\", \"2020\", \"A-Class\")\n",
    "\n",
    "print(E1.Model)\n",
    "print(E1.name)\n",
    "print(E2.year)\n",
    "E1.start()\n",
    "E1.stop()\n",
    "\n"
   ]
  },
  {
   "cell_type": "code",
   "execution_count": null,
   "id": "32e0da9e",
   "metadata": {},
   "outputs": [
    {
     "name": "stdout",
     "output_type": "stream",
     "text": [
      "Khan g\n",
      "Khan g\n"
     ]
    }
   ],
   "source": [
    "#class Method\n",
    "\n",
    "class Employee:\n",
    "    name = \"Ali Kumar\"\n",
    "\n",
    "    # def changeName(self, Name):\n",
    "    #     self.Name = Name\n",
    "        # 1) Employee.Name = \"Khan g\" \n",
    "        # 2) self.__class__.Name = \"Khan g\"\n",
    "   # 3)\n",
    "    @classmethod\n",
    "    def changeName(selfcls, name):\n",
    "        selfcls.name = name\n",
    "\n",
    "e1 = Employee()\n",
    "e1.changeName(\"Khan g\")\n",
    "print(Employee.name)\n",
    "print(e1.name)\n",
    "\n"
   ]
  },
  {
   "cell_type": "code",
   "execution_count": null,
   "id": "48fd3fcc",
   "metadata": {},
   "outputs": [
    {
     "name": "stdout",
     "output_type": "stream",
     "text": [
      "khan 22\n",
      "8000\n",
      "13000\n",
      "8000\n",
      "13000\n"
     ]
    }
   ],
   "source": [
    "#Property decorator\n",
    "\n",
    "class Employee:\n",
    "    def __init__(self, name, age, salary, benefit, rent):\n",
    "        self.name = name\n",
    "        self.age = age\n",
    "        self.salary = salary\n",
    "        self.benefit = benefit\n",
    "        self.rent = rent\n",
    "        self.total = str(salary + benefit + rent)\n",
    "\n",
    "    # def calculatetotal(self):\n",
    "        # self.total = str(self.salary + self.benefit + self.rent)\n",
    "\n",
    "    @property\n",
    "    def calculatetotal(self):\n",
    "        return str(self.salary + self.benefit + self.rent)\n",
    "\n",
    "        \n",
    "s1 = Employee(\"khan\", 22, 5000, 1000, 2000)\n",
    "print(s1.name, s1.age)\n",
    "print(s1.total)\n",
    "\n",
    "s1.salary = 10000\n",
    "print(s1.calculatetotal)\n",
    "\n"
   ]
  },
  {
   "cell_type": "code",
   "execution_count": 1,
   "id": "8411bd91",
   "metadata": {},
   "outputs": [
    {
     "name": "stdout",
     "output_type": "stream",
     "text": [
      "1 + 4i\n",
      "1 + 4i\n",
      "------\n",
      "0 + 0i\n"
     ]
    }
   ],
   "source": [
    "#Operations with Two Complex Numbers using Dunder Functions\n",
    "\n",
    "class Complex:\n",
    "    def __init__(self, real, imaginary):\n",
    "        self.real = real\n",
    "        self.imaginary = imaginary\n",
    "\n",
    "    # def add(self, num):\n",
    "    #     newReal = self.real + num.real\n",
    "    #     newImg = self.imaginary + num.imaginary\n",
    "    #     return Complex(newReal, newImg)\n",
    "    \n",
    "    def __add__(self, num):\n",
    "        newReal = self.real + num.real\n",
    "        newImg = self.imaginary + num.imaginary\n",
    "        return Complex(newReal, newImg)\n",
    "    \n",
    "    def __sub__(self, num):\n",
    "        newReal = self.real - num.real\n",
    "        newImg = self.imaginary - num.imaginary\n",
    "        return Complex(newReal, newImg)\n",
    "\n",
    "    def display(self):\n",
    "        print(f\"{self.real} + {self.imaginary}i\")\n",
    "\n",
    "c = Complex(1,4)\n",
    "c.display()\n",
    "\n",
    "d = Complex(1,4)\n",
    "d.display()\n",
    "print(\"------\")\n",
    "# e = c.add(d)\n",
    "\n",
    "# e = c + d\n",
    "e = c - d\n",
    "e.display()  # Output: 2 + 8i"
   ]
  },
  {
   "cell_type": "code",
   "execution_count": 4,
   "id": "2053ec99",
   "metadata": {},
   "outputs": [
    {
     "name": "stdout",
     "output_type": "stream",
     "text": [
      "314.0\n",
      "62.800000000000004\n"
     ]
    }
   ],
   "source": [
    "class Circle:\n",
    "    def __init__(self,radius):\n",
    "        self.radius = radius\n",
    "\n",
    "    def Area(self):\n",
    "        return 3.14 * (self.radius ** 2)\n",
    "    \n",
    "    def perimeter(self):\n",
    "        return 2 * 3.14 * self.radius\n",
    "    \n",
    "c = Circle(10)\n",
    "print(c.Area())\n",
    "print(c.perimeter())\n",
    "\n",
    "        "
   ]
  },
  {
   "cell_type": "code",
   "execution_count": 9,
   "id": "97baf69d",
   "metadata": {},
   "outputs": [
    {
     "name": "stdout",
     "output_type": "stream",
     "text": [
      "Afaq Ahmad Khan 25\n",
      "Employee Role:  AI Engineer\n",
      "Employee Department:  AI\n",
      "Employee Salary:  1000000\n"
     ]
    }
   ],
   "source": [
    "class Employee:\n",
    "    def __init__(self,role, department, salary):\n",
    "        self.role = role\n",
    "        self.department = department\n",
    "        self.salary = salary\n",
    "\n",
    "    def showdetails(self):\n",
    "        print(\"Employee Role: \", self.role)\n",
    "        print(\"Employee Department: \", self.department)\n",
    "        print(\"Employee Salary: \", self.salary)\n",
    "\n",
    "class Enginner(Employee):\n",
    "    def __init__(self, name, age, role, department, salary):\n",
    "        self.name = name\n",
    "        self.age = age\n",
    "        super().__init__(role, department, salary)\n",
    "\n",
    "e = Enginner(\"Afaq Ahmad Khan\", 25, \"AI Engineer\", \"AI\", 1000000)\n",
    "print(e.name, e.age)\n",
    "e.showdetails()\n",
    "\n",
    "\n"
   ]
  },
  {
   "cell_type": "code",
   "execution_count": null,
   "id": "ad82e7d6",
   "metadata": {},
   "outputs": [
    {
     "name": "stdout",
     "output_type": "stream",
     "text": [
      "None\n"
     ]
    }
   ],
   "source": [
    "my_list = [1, 3, 5, 7, 9]\n",
    "my_list.reverse()\n",
    "print(my_list.reverse())\n",
    "\n"
   ]
  }
 ],
 "metadata": {
  "kernelspec": {
   "display_name": ".venv",
   "language": "python",
   "name": "python3"
  },
  "language_info": {
   "codemirror_mode": {
    "name": "ipython",
    "version": 3
   },
   "file_extension": ".py",
   "mimetype": "text/x-python",
   "name": "python",
   "nbconvert_exporter": "python",
   "pygments_lexer": "ipython3",
   "version": "3.11.0"
  }
 },
 "nbformat": 4,
 "nbformat_minor": 5
}
